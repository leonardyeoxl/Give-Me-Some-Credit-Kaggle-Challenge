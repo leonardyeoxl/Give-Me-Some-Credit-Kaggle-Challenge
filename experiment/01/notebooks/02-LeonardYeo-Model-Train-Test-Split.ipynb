{
 "cells": [
  {
   "cell_type": "markdown",
   "id": "7529bd31",
   "metadata": {},
   "source": [
    "# Model"
   ]
  },
  {
   "cell_type": "code",
   "execution_count": 1,
   "id": "464617e2",
   "metadata": {},
   "outputs": [
    {
     "name": "stdout",
     "output_type": "stream",
     "text": [
      "Requirement already satisfied: imbalanced-learn==0.8.0 in /opt/conda/lib/python3.8/site-packages (0.8.0)\n",
      "Requirement already satisfied: scikit-learn>=0.24 in /opt/conda/lib/python3.8/site-packages (from imbalanced-learn==0.8.0) (0.24.1)\n",
      "Requirement already satisfied: numpy>=1.13.3 in /opt/conda/lib/python3.8/site-packages (from imbalanced-learn==0.8.0) (1.20.2)\n",
      "Requirement already satisfied: scipy>=0.19.1 in /opt/conda/lib/python3.8/site-packages (from imbalanced-learn==0.8.0) (1.6.2)\n",
      "Requirement already satisfied: joblib>=0.11 in /opt/conda/lib/python3.8/site-packages (from imbalanced-learn==0.8.0) (1.0.1)\n",
      "Requirement already satisfied: threadpoolctl>=2.0.0 in /opt/conda/lib/python3.8/site-packages (from scikit-learn>=0.24->imbalanced-learn==0.8.0) (2.1.0)\n"
     ]
    }
   ],
   "source": [
    "!pip install imbalanced-learn==0.8.0"
   ]
  },
  {
   "cell_type": "code",
   "execution_count": 2,
   "id": "32c7ab8e",
   "metadata": {},
   "outputs": [
    {
     "name": "stdout",
     "output_type": "stream",
     "text": [
      "Requirement already satisfied: xgboost==1.4.0 in /opt/conda/lib/python3.8/site-packages (1.4.0)\n",
      "Requirement already satisfied: numpy in /opt/conda/lib/python3.8/site-packages (from xgboost==1.4.0) (1.20.2)\n",
      "Requirement already satisfied: scipy in /opt/conda/lib/python3.8/site-packages (from xgboost==1.4.0) (1.6.2)\n"
     ]
    }
   ],
   "source": [
    "!pip install xgboost==1.4.0"
   ]
  },
  {
   "cell_type": "code",
   "execution_count": 3,
   "id": "f85f12a7",
   "metadata": {},
   "outputs": [],
   "source": [
    "import pandas as pd\n",
    "import numpy as np\n",
    "import matplotlib\n",
    "from matplotlib import pyplot\n",
    "from matplotlib.pyplot import figure\n",
    "%matplotlib inline\n",
    "from scipy import stats\n",
    "from sklearn.preprocessing import MinMaxScaler\n",
    "from sklearn.model_selection import train_test_split\n",
    "from xgboost import XGBClassifier\n",
    "\n",
    "from sklearn.metrics import roc_auc_score, classification_report, confusion_matrix, log_loss\n",
    "from math import sqrt\n",
    "\n",
    "from imblearn.over_sampling import SMOTE"
   ]
  },
  {
   "cell_type": "markdown",
   "id": "6e1c0578",
   "metadata": {},
   "source": [
    "## Settings"
   ]
  },
  {
   "cell_type": "code",
   "execution_count": 4,
   "id": "e39167c0",
   "metadata": {},
   "outputs": [],
   "source": [
    "RAW_DATA_DIR = \"./../data/raw\"\n",
    "INTERIM_DATA_DIR = \"./../data/interim\"\n",
    "PROCESSED_DATA_DIR = \"./../data/processed\"\n",
    "VERSION = \"v1.0\"\n",
    "params = {'axes.titlesize':'32',\n",
    "          'xtick.labelsize':'24',\n",
    "          'ytick.labelsize':'24'}\n",
    "matplotlib.rcParams.update(params)"
   ]
  },
  {
   "cell_type": "markdown",
   "id": "7f98de15",
   "metadata": {},
   "source": [
    "## Load Processed Data"
   ]
  },
  {
   "cell_type": "code",
   "execution_count": 5,
   "id": "62b46966",
   "metadata": {},
   "outputs": [],
   "source": [
    "rmoutliers_scaled_df = pd.read_csv(f'{INTERIM_DATA_DIR}/Remove-Outliers-MinMaxScaled-v1.0.csv')\n",
    "rmoutliers_df = pd.read_csv(f'{INTERIM_DATA_DIR}/Remove-Outliers-v1.0.csv')"
   ]
  },
  {
   "cell_type": "markdown",
   "id": "24e84337",
   "metadata": {},
   "source": [
    "## Train Test Split"
   ]
  },
  {
   "cell_type": "code",
   "execution_count": 6,
   "id": "083a4733",
   "metadata": {},
   "outputs": [
    {
     "data": {
      "text/plain": [
       "Index(['SeriousDlqin2yrs', 'RevolvingUtilizationOfUnsecuredLines', 'age',\n",
       "       'NumberOfTime30-59DaysPastDueNotWorse', 'DebtRatio', 'MonthlyIncome',\n",
       "       'NumberOfOpenCreditLinesAndLoans', 'NumberOfTimes90DaysLate',\n",
       "       'NumberRealEstateLoansOrLines', 'NumberOfTime60-89DaysPastDueNotWorse',\n",
       "       'NumberOfDependents'],\n",
       "      dtype='object')"
      ]
     },
     "execution_count": 6,
     "metadata": {},
     "output_type": "execute_result"
    }
   ],
   "source": [
    "rmoutliers_scaled_df.columns"
   ]
  },
  {
   "cell_type": "code",
   "execution_count": 7,
   "id": "f8a53853",
   "metadata": {},
   "outputs": [],
   "source": [
    "X = rmoutliers_scaled_df[['RevolvingUtilizationOfUnsecuredLines', 'age',\n",
    "       'DebtRatio', 'MonthlyIncome',\n",
    "       'NumberOfOpenCreditLinesAndLoans']] # Based on analysis from recursive feature elimination and xgb feature importance\n",
    "y = rmoutliers_scaled_df['SeriousDlqin2yrs']\n",
    "X_train, X_test, y_train, y_test = train_test_split(X, y, test_size=0.2, random_state=123)\n",
    "X_train02, X_test02, y_train02, y_test02 = train_test_split(rmoutliers_df[['RevolvingUtilizationOfUnsecuredLines', 'age',\n",
    "       'DebtRatio', 'MonthlyIncome',\n",
    "       'NumberOfOpenCreditLinesAndLoans']], rmoutliers_df[['SeriousDlqin2yrs']], test_size=0.2, random_state=123)\n",
    "\n",
    "# define min max scaler\n",
    "scaler = MinMaxScaler()\n",
    "scaler_X = scaler.fit(X_train02)\n",
    "scaler_y = scaler.fit(y_train02)\n",
    "\n",
    "X_resampled, y_resampled = SMOTE(sampling_strategy='minority', random_state=123).fit_resample(X_train, y_train)"
   ]
  },
  {
   "cell_type": "markdown",
   "id": "8adc35dd",
   "metadata": {},
   "source": [
    "## Base Model"
   ]
  },
  {
   "cell_type": "code",
   "execution_count": 8,
   "id": "7d30ba0d",
   "metadata": {},
   "outputs": [
    {
     "name": "stdout",
     "output_type": "stream",
     "text": [
      "[0]\tvalidation_0-auc:0.77607\n",
      "[1]\tvalidation_0-auc:0.78101\n",
      "[2]\tvalidation_0-auc:0.78287\n",
      "[3]\tvalidation_0-auc:0.78371\n",
      "[4]\tvalidation_0-auc:0.78499\n",
      "[5]\tvalidation_0-auc:0.78446\n",
      "[6]\tvalidation_0-auc:0.78605\n",
      "[7]\tvalidation_0-auc:0.78653\n",
      "[8]\tvalidation_0-auc:0.78709\n",
      "[9]\tvalidation_0-auc:0.78821\n",
      "[10]\tvalidation_0-auc:0.78869\n",
      "[11]\tvalidation_0-auc:0.78930\n",
      "[12]\tvalidation_0-auc:0.78919\n",
      "[13]\tvalidation_0-auc:0.78937\n",
      "[14]\tvalidation_0-auc:0.78914\n",
      "[15]\tvalidation_0-auc:0.78868\n",
      "[16]\tvalidation_0-auc:0.78887\n",
      "[17]\tvalidation_0-auc:0.78907\n",
      "[18]\tvalidation_0-auc:0.78842\n",
      "[19]\tvalidation_0-auc:0.78811\n",
      "[20]\tvalidation_0-auc:0.78825\n",
      "[21]\tvalidation_0-auc:0.78817\n",
      "[22]\tvalidation_0-auc:0.78787\n",
      "[23]\tvalidation_0-auc:0.78811\n",
      "[24]\tvalidation_0-auc:0.78825\n",
      "[25]\tvalidation_0-auc:0.78801\n",
      "[26]\tvalidation_0-auc:0.78774\n",
      "[27]\tvalidation_0-auc:0.78772\n",
      "[28]\tvalidation_0-auc:0.78734\n",
      "[29]\tvalidation_0-auc:0.78735\n",
      "[30]\tvalidation_0-auc:0.78746\n",
      "[31]\tvalidation_0-auc:0.78719\n",
      "[32]\tvalidation_0-auc:0.78715\n",
      "[33]\tvalidation_0-auc:0.78658\n",
      "[34]\tvalidation_0-auc:0.78658\n",
      "[35]\tvalidation_0-auc:0.78657\n",
      "[36]\tvalidation_0-auc:0.78674\n",
      "[37]\tvalidation_0-auc:0.78648\n",
      "[38]\tvalidation_0-auc:0.78652\n",
      "[39]\tvalidation_0-auc:0.78636\n",
      "[40]\tvalidation_0-auc:0.78645\n",
      "[41]\tvalidation_0-auc:0.78634\n",
      "[42]\tvalidation_0-auc:0.78633\n",
      "[43]\tvalidation_0-auc:0.78659\n",
      "[44]\tvalidation_0-auc:0.78662\n",
      "[45]\tvalidation_0-auc:0.78651\n",
      "[46]\tvalidation_0-auc:0.78651\n",
      "[47]\tvalidation_0-auc:0.78643\n",
      "[48]\tvalidation_0-auc:0.78640\n",
      "[49]\tvalidation_0-auc:0.78641\n",
      "[50]\tvalidation_0-auc:0.78602\n",
      "[51]\tvalidation_0-auc:0.78577\n",
      "[52]\tvalidation_0-auc:0.78577\n",
      "[53]\tvalidation_0-auc:0.78579\n",
      "[54]\tvalidation_0-auc:0.78565\n",
      "[55]\tvalidation_0-auc:0.78582\n",
      "[56]\tvalidation_0-auc:0.78555\n",
      "[57]\tvalidation_0-auc:0.78540\n",
      "[58]\tvalidation_0-auc:0.78548\n",
      "[59]\tvalidation_0-auc:0.78566\n",
      "[60]\tvalidation_0-auc:0.78554\n",
      "[61]\tvalidation_0-auc:0.78528\n",
      "[62]\tvalidation_0-auc:0.78493\n",
      "[63]\tvalidation_0-auc:0.78450\n",
      "[64]\tvalidation_0-auc:0.78459\n",
      "[65]\tvalidation_0-auc:0.78441\n",
      "[66]\tvalidation_0-auc:0.78433\n",
      "[67]\tvalidation_0-auc:0.78409\n",
      "[68]\tvalidation_0-auc:0.78429\n",
      "[69]\tvalidation_0-auc:0.78412\n",
      "[70]\tvalidation_0-auc:0.78413\n",
      "[71]\tvalidation_0-auc:0.78422\n",
      "[72]\tvalidation_0-auc:0.78409\n",
      "[73]\tvalidation_0-auc:0.78383\n",
      "[74]\tvalidation_0-auc:0.78382\n",
      "[75]\tvalidation_0-auc:0.78364\n",
      "[76]\tvalidation_0-auc:0.78365\n",
      "[77]\tvalidation_0-auc:0.78350\n",
      "[78]\tvalidation_0-auc:0.78333\n",
      "[79]\tvalidation_0-auc:0.78305\n",
      "[80]\tvalidation_0-auc:0.78314\n",
      "[81]\tvalidation_0-auc:0.78314\n",
      "[82]\tvalidation_0-auc:0.78308\n",
      "[83]\tvalidation_0-auc:0.78297\n",
      "[84]\tvalidation_0-auc:0.78265\n",
      "[85]\tvalidation_0-auc:0.78269\n",
      "[86]\tvalidation_0-auc:0.78265\n",
      "[87]\tvalidation_0-auc:0.78257\n",
      "[88]\tvalidation_0-auc:0.78248\n",
      "[89]\tvalidation_0-auc:0.78240\n",
      "[90]\tvalidation_0-auc:0.78237\n",
      "[91]\tvalidation_0-auc:0.78226\n",
      "[92]\tvalidation_0-auc:0.78198\n",
      "[93]\tvalidation_0-auc:0.78224\n",
      "[94]\tvalidation_0-auc:0.78196\n",
      "[95]\tvalidation_0-auc:0.78194\n",
      "[96]\tvalidation_0-auc:0.78194\n",
      "[97]\tvalidation_0-auc:0.78178\n",
      "[98]\tvalidation_0-auc:0.78171\n",
      "[99]\tvalidation_0-auc:0.78143\n"
     ]
    },
    {
     "data": {
      "text/plain": [
       "XGBClassifier(base_score=0.5, booster='gbtree', colsample_bylevel=1,\n",
       "              colsample_bynode=1, colsample_bytree=1, gamma=0, gpu_id=-1,\n",
       "              importance_type='gain', interaction_constraints='',\n",
       "              learning_rate=0.300000012, max_delta_step=0, max_depth=6,\n",
       "              min_child_weight=1, missing=nan, monotone_constraints='()',\n",
       "              n_estimators=100, n_jobs=8, num_parallel_tree=1, random_state=123,\n",
       "              reg_alpha=0, reg_lambda=1, scale_pos_weight=1, seed=123,\n",
       "              subsample=1, tree_method='exact', use_label_encoder=False,\n",
       "              validate_parameters=1, verbosity=None)"
      ]
     },
     "execution_count": 8,
     "metadata": {},
     "output_type": "execute_result"
    }
   ],
   "source": [
    "eval_set = [(X_test, y_test)]\n",
    "model = XGBClassifier(use_label_encoder=False, seed=123, random_state=123)\n",
    "model.fit(X_train, y_train, eval_metric=\"auc\", eval_set=eval_set, verbose=True)"
   ]
  },
  {
   "cell_type": "markdown",
   "id": "49c465d1",
   "metadata": {},
   "source": [
    "## Metrics"
   ]
  },
  {
   "cell_type": "code",
   "execution_count": 9,
   "id": "721e2ed3",
   "metadata": {},
   "outputs": [
    {
     "name": "stderr",
     "output_type": "stream",
     "text": [
      "/opt/conda/lib/python3.8/site-packages/xgboost/data.py:112: UserWarning: Use subset (sliced data) of np.ndarray is not recommended because it will generate extra copies and increase memory consumption\n",
      "  warnings.warn(\n"
     ]
    }
   ],
   "source": [
    "y_pred_prob = model.predict_proba(X_test)"
   ]
  },
  {
   "cell_type": "code",
   "execution_count": 10,
   "id": "7108f52d",
   "metadata": {},
   "outputs": [
    {
     "data": {
      "text/plain": [
       "array([[0.9476655 , 0.0523345 ],\n",
       "       [0.9874702 , 0.01252981],\n",
       "       [0.6680068 , 0.33199325],\n",
       "       ...,\n",
       "       [0.89708745, 0.10291255],\n",
       "       [0.9445667 , 0.05543329],\n",
       "       [0.9443627 , 0.0556373 ]], dtype=float32)"
      ]
     },
     "execution_count": 10,
     "metadata": {},
     "output_type": "execute_result"
    }
   ],
   "source": [
    "y_pred_prob"
   ]
  },
  {
   "cell_type": "code",
   "execution_count": 11,
   "id": "9818ae13",
   "metadata": {},
   "outputs": [
    {
     "name": "stdout",
     "output_type": "stream",
     "text": [
      "AUROC: 0.7814241345808479%\n"
     ]
    }
   ],
   "source": [
    "print(f\"AUROC: {roc_auc_score(y_test, y_pred_prob[:, 1])}%\")"
   ]
  },
  {
   "cell_type": "code",
   "execution_count": 12,
   "id": "7d0c76cb",
   "metadata": {},
   "outputs": [
    {
     "name": "stderr",
     "output_type": "stream",
     "text": [
      "/opt/conda/lib/python3.8/site-packages/xgboost/data.py:112: UserWarning: Use subset (sliced data) of np.ndarray is not recommended because it will generate extra copies and increase memory consumption\n",
      "  warnings.warn(\n"
     ]
    }
   ],
   "source": [
    "y_pred = model.predict(X_test)"
   ]
  },
  {
   "cell_type": "code",
   "execution_count": 13,
   "id": "9960c9b2",
   "metadata": {},
   "outputs": [
    {
     "name": "stdout",
     "output_type": "stream",
     "text": [
      "              precision    recall  f1-score   support\n",
      "\n",
      "           0       0.93      1.00      0.96     20101\n",
      "           1       0.43      0.04      0.08      1455\n",
      "\n",
      "    accuracy                           0.93     21556\n",
      "   macro avg       0.68      0.52      0.52     21556\n",
      "weighted avg       0.90      0.93      0.90     21556\n",
      "\n"
     ]
    }
   ],
   "source": [
    "print(classification_report(y_test, y_pred, labels=[0,1]))"
   ]
  },
  {
   "cell_type": "code",
   "execution_count": 14,
   "id": "43dc6f67",
   "metadata": {},
   "outputs": [
    {
     "data": {
      "text/plain": [
       "array([[20019,    82],\n",
       "       [ 1394,    61]])"
      ]
     },
     "execution_count": 14,
     "metadata": {},
     "output_type": "execute_result"
    }
   ],
   "source": [
    "confusion_matrix(y_test, y_pred)"
   ]
  },
  {
   "cell_type": "code",
   "execution_count": 15,
   "id": "07f0401d",
   "metadata": {},
   "outputs": [
    {
     "data": {
      "text/plain": [
       "2.3649702878955954"
      ]
     },
     "execution_count": 15,
     "metadata": {},
     "output_type": "execute_result"
    }
   ],
   "source": [
    "log_loss(y_test, y_pred)"
   ]
  },
  {
   "cell_type": "markdown",
   "id": "6ce2015e",
   "metadata": {},
   "source": [
    "## Load Test Data"
   ]
  },
  {
   "cell_type": "code",
   "execution_count": 16,
   "id": "e713197a",
   "metadata": {},
   "outputs": [],
   "source": [
    "test_df = pd.read_csv(f'{RAW_DATA_DIR}/cs-test.csv')"
   ]
  },
  {
   "cell_type": "code",
   "execution_count": 17,
   "id": "29356897",
   "metadata": {},
   "outputs": [
    {
     "name": "stdout",
     "output_type": "stream",
     "text": [
      "[4.05810494e-05 2.65060241e-01 6.61556156e-07 7.37673094e-04\n",
      " 4.70588235e-02]\n"
     ]
    }
   ],
   "source": [
    "test_df_X = test_df[['RevolvingUtilizationOfUnsecuredLines', 'age',\n",
    "       'DebtRatio', 'MonthlyIncome',\n",
    "       'NumberOfOpenCreditLinesAndLoans']]\n",
    "\n",
    "# define min max scaler\n",
    "scaler02 = MinMaxScaler()\n",
    "# transform data\n",
    "scaled02 = scaler02.fit_transform(test_df_X)\n",
    "print(scaled02[0])\n",
    "scaled_test_df = pd.DataFrame(scaled02, columns=test_df_X.columns) \n",
    "\n",
    "test_X = scaled_test_df[['RevolvingUtilizationOfUnsecuredLines', 'age',\n",
    "       'DebtRatio', 'MonthlyIncome',\n",
    "       'NumberOfOpenCreditLinesAndLoans']]"
   ]
  },
  {
   "cell_type": "code",
   "execution_count": 18,
   "id": "7d943d01",
   "metadata": {},
   "outputs": [
    {
     "name": "stderr",
     "output_type": "stream",
     "text": [
      "/opt/conda/lib/python3.8/site-packages/xgboost/data.py:112: UserWarning: Use subset (sliced data) of np.ndarray is not recommended because it will generate extra copies and increase memory consumption\n",
      "  warnings.warn(\n"
     ]
    }
   ],
   "source": [
    "preds = model.predict_proba(test_X)"
   ]
  },
  {
   "cell_type": "code",
   "execution_count": 19,
   "id": "ef4b64fc",
   "metadata": {},
   "outputs": [
    {
     "data": {
      "text/plain": [
       "array([[0.97624254, 0.02375744],\n",
       "       [0.99012035, 0.00987964],\n",
       "       [0.98047036, 0.01952962],\n",
       "       ...,\n",
       "       [0.99654734, 0.00345268],\n",
       "       [0.990558  , 0.00944199],\n",
       "       [0.9782989 , 0.02170108]], dtype=float32)"
      ]
     },
     "execution_count": 19,
     "metadata": {},
     "output_type": "execute_result"
    }
   ],
   "source": [
    "preds"
   ]
  },
  {
   "cell_type": "markdown",
   "id": "981101fd",
   "metadata": {},
   "source": [
    "## Export Results"
   ]
  },
  {
   "cell_type": "code",
   "execution_count": 20,
   "id": "e786f55e",
   "metadata": {},
   "outputs": [],
   "source": [
    "CV_Type = \"NormalTrainTestSplit\"\n",
    "submission = pd.read_csv(f\"{RAW_DATA_DIR}/sampleEntry.csv\")\n",
    "submission[\"Probability\"]=preds[:, 1]\n",
    "submission.to_csv(f'{PROCESSED_DATA_DIR}/submission-{CV_Type}.csv', index=False)"
   ]
  },
  {
   "cell_type": "markdown",
   "id": "b8d6b022",
   "metadata": {},
   "source": [
    "## Export Model"
   ]
  },
  {
   "cell_type": "code",
   "execution_count": 21,
   "id": "8af674c4",
   "metadata": {},
   "outputs": [],
   "source": [
    "from datetime import datetime\n",
    "\n",
    "DATE = datetime.today().strftime('%Y-%m-%d')\n",
    "MODEL_DIR = \"./../models\"\n",
    "ALGO = \"XGB\"\n",
    "CLASSIFIER = \"Binary-Classifier\"\n",
    "model.save_model(f\"{MODEL_DIR}/{ALGO}-{CLASSIFIER}-{CV_Type}-{DATE}.pkl\")"
   ]
  },
  {
   "cell_type": "code",
   "execution_count": null,
   "id": "70e9da18",
   "metadata": {},
   "outputs": [],
   "source": []
  }
 ],
 "metadata": {
  "kernelspec": {
   "display_name": "Python 3",
   "language": "python",
   "name": "python3"
  },
  "language_info": {
   "codemirror_mode": {
    "name": "ipython",
    "version": 3
   },
   "file_extension": ".py",
   "mimetype": "text/x-python",
   "name": "python",
   "nbconvert_exporter": "python",
   "pygments_lexer": "ipython3",
   "version": "3.8.8"
  }
 },
 "nbformat": 4,
 "nbformat_minor": 5
}
