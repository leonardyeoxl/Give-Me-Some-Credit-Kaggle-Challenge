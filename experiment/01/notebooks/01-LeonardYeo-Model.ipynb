{
 "cells": [
  {
   "cell_type": "markdown",
   "id": "00398f0c",
   "metadata": {},
   "source": [
    "# Model"
   ]
  },
  {
   "cell_type": "code",
   "execution_count": 1,
   "id": "e36a5658",
   "metadata": {},
   "outputs": [
    {
     "name": "stdout",
     "output_type": "stream",
     "text": [
      "Requirement already satisfied: imbalanced-learn==0.8.0 in /opt/conda/lib/python3.8/site-packages (0.8.0)\n",
      "Requirement already satisfied: numpy>=1.13.3 in /opt/conda/lib/python3.8/site-packages (from imbalanced-learn==0.8.0) (1.19.5)\n",
      "Requirement already satisfied: scikit-learn>=0.24 in /opt/conda/lib/python3.8/site-packages (from imbalanced-learn==0.8.0) (0.24.1)\n",
      "Requirement already satisfied: joblib>=0.11 in /opt/conda/lib/python3.8/site-packages (from imbalanced-learn==0.8.0) (0.14.1)\n",
      "Requirement already satisfied: scipy>=0.19.1 in /opt/conda/lib/python3.8/site-packages (from imbalanced-learn==0.8.0) (1.6.0)\n",
      "Requirement already satisfied: threadpoolctl>=2.0.0 in /opt/conda/lib/python3.8/site-packages (from scikit-learn>=0.24->imbalanced-learn==0.8.0) (2.1.0)\n"
     ]
    }
   ],
   "source": [
    "!pip install imbalanced-learn==0.8.0"
   ]
  },
  {
   "cell_type": "code",
   "execution_count": 2,
   "id": "b5941d2b",
   "metadata": {},
   "outputs": [
    {
     "name": "stdout",
     "output_type": "stream",
     "text": [
      "Requirement already satisfied: mljar-supervised==0.9.1 in /opt/conda/lib/python3.8/site-packages (0.9.1)\n",
      "Requirement already satisfied: pyarrow>=2.0.0 in /opt/conda/lib/python3.8/site-packages (from mljar-supervised==0.9.1) (3.0.0)\n",
      "Requirement already satisfied: tabulate==0.8.7 in /opt/conda/lib/python3.8/site-packages (from mljar-supervised==0.9.1) (0.8.7)\n",
      "Requirement already satisfied: scikit-learn==0.24.1 in /opt/conda/lib/python3.8/site-packages (from mljar-supervised==0.9.1) (0.24.1)\n",
      "Requirement already satisfied: seaborn==0.10.1 in /opt/conda/lib/python3.8/site-packages (from mljar-supervised==0.9.1) (0.10.1)\n",
      "Requirement already satisfied: cloudpickle==1.3.0 in /opt/conda/lib/python3.8/site-packages (from mljar-supervised==0.9.1) (1.3.0)\n",
      "Requirement already satisfied: wordcloud==1.7.0 in /opt/conda/lib/python3.8/site-packages (from mljar-supervised==0.9.1) (1.7.0)\n",
      "Requirement already satisfied: category-encoders==2.2.2 in /opt/conda/lib/python3.8/site-packages (from mljar-supervised==0.9.1) (2.2.2)\n",
      "Requirement already satisfied: shap==0.36.0 in /opt/conda/lib/python3.8/site-packages (from mljar-supervised==0.9.1) (0.36.0)\n",
      "Requirement already satisfied: joblib==0.14.1 in /opt/conda/lib/python3.8/site-packages (from mljar-supervised==0.9.1) (0.14.1)\n",
      "Requirement already satisfied: lightgbm==3.0.0 in /opt/conda/lib/python3.8/site-packages (from mljar-supervised==0.9.1) (3.0.0)\n",
      "Requirement already satisfied: matplotlib>=3.2.2 in /opt/conda/lib/python3.8/site-packages (from mljar-supervised==0.9.1) (3.4.1)\n",
      "Requirement already satisfied: numpy>=1.18.5 in /opt/conda/lib/python3.8/site-packages (from mljar-supervised==0.9.1) (1.19.5)\n",
      "Requirement already satisfied: scipy==1.6.0 in /opt/conda/lib/python3.8/site-packages (from mljar-supervised==0.9.1) (1.6.0)\n",
      "Requirement already satisfied: catboost==0.24.4 in /opt/conda/lib/python3.8/site-packages (from mljar-supervised==0.9.1) (0.24.4)\n",
      "Requirement already satisfied: xgboost==1.3.3 in /opt/conda/lib/python3.8/site-packages (from mljar-supervised==0.9.1) (1.3.3)\n",
      "Requirement already satisfied: dtreeviz==1.0 in /opt/conda/lib/python3.8/site-packages (from mljar-supervised==0.9.1) (1.0)\n",
      "Requirement already satisfied: pandas==1.2.0 in /opt/conda/lib/python3.8/site-packages (from mljar-supervised==0.9.1) (1.2.0)\n",
      "Requirement already satisfied: six in /opt/conda/lib/python3.8/site-packages (from catboost==0.24.4->mljar-supervised==0.9.1) (1.15.0)\n",
      "Requirement already satisfied: plotly in /opt/conda/lib/python3.8/site-packages (from catboost==0.24.4->mljar-supervised==0.9.1) (4.14.3)\n",
      "Requirement already satisfied: graphviz in /opt/conda/lib/python3.8/site-packages (from catboost==0.24.4->mljar-supervised==0.9.1) (0.16)\n",
      "Requirement already satisfied: patsy>=0.5.1 in /opt/conda/lib/python3.8/site-packages (from category-encoders==2.2.2->mljar-supervised==0.9.1) (0.5.1)\n",
      "Requirement already satisfied: statsmodels>=0.9.0 in /opt/conda/lib/python3.8/site-packages (from category-encoders==2.2.2->mljar-supervised==0.9.1) (0.12.2)\n",
      "Requirement already satisfied: colour in /opt/conda/lib/python3.8/site-packages (from dtreeviz==1.0->mljar-supervised==0.9.1) (0.1.5)\n",
      "Requirement already satisfied: pytest in /opt/conda/lib/python3.8/site-packages (from dtreeviz==1.0->mljar-supervised==0.9.1) (6.2.3)\n",
      "Requirement already satisfied: pytz>=2017.3 in /opt/conda/lib/python3.8/site-packages (from pandas==1.2.0->mljar-supervised==0.9.1) (2021.1)\n",
      "Requirement already satisfied: python-dateutil>=2.7.3 in /opt/conda/lib/python3.8/site-packages (from pandas==1.2.0->mljar-supervised==0.9.1) (2.8.1)\n",
      "Requirement already satisfied: threadpoolctl>=2.0.0 in /opt/conda/lib/python3.8/site-packages (from scikit-learn==0.24.1->mljar-supervised==0.9.1) (2.1.0)\n",
      "Requirement already satisfied: tqdm>4.25.0 in /opt/conda/lib/python3.8/site-packages (from shap==0.36.0->mljar-supervised==0.9.1) (4.60.0)\n",
      "Requirement already satisfied: slicer in /opt/conda/lib/python3.8/site-packages (from shap==0.36.0->mljar-supervised==0.9.1) (0.0.7)\n",
      "Requirement already satisfied: numba in /opt/conda/lib/python3.8/site-packages (from shap==0.36.0->mljar-supervised==0.9.1) (0.53.1)\n",
      "Requirement already satisfied: pillow in /opt/conda/lib/python3.8/site-packages (from wordcloud==1.7.0->mljar-supervised==0.9.1) (8.1.2)\n",
      "Requirement already satisfied: pyparsing>=2.2.1 in /opt/conda/lib/python3.8/site-packages (from matplotlib>=3.2.2->mljar-supervised==0.9.1) (2.4.7)\n",
      "Requirement already satisfied: cycler>=0.10 in /opt/conda/lib/python3.8/site-packages (from matplotlib>=3.2.2->mljar-supervised==0.9.1) (0.10.0)\n",
      "Requirement already satisfied: kiwisolver>=1.0.1 in /opt/conda/lib/python3.8/site-packages (from matplotlib>=3.2.2->mljar-supervised==0.9.1) (1.3.1)\n",
      "Requirement already satisfied: setuptools in /opt/conda/lib/python3.8/site-packages (from numba->shap==0.36.0->mljar-supervised==0.9.1) (49.6.0.post20210108)\n",
      "Requirement already satisfied: llvmlite<0.37,>=0.36.0rc1 in /opt/conda/lib/python3.8/site-packages (from numba->shap==0.36.0->mljar-supervised==0.9.1) (0.36.0)\n",
      "Requirement already satisfied: retrying>=1.3.3 in /opt/conda/lib/python3.8/site-packages (from plotly->catboost==0.24.4->mljar-supervised==0.9.1) (1.3.3)\n",
      "Requirement already satisfied: iniconfig in /opt/conda/lib/python3.8/site-packages (from pytest->dtreeviz==1.0->mljar-supervised==0.9.1) (1.1.1)\n",
      "Requirement already satisfied: pluggy<1.0.0a1,>=0.12 in /opt/conda/lib/python3.8/site-packages (from pytest->dtreeviz==1.0->mljar-supervised==0.9.1) (0.13.1)\n",
      "Requirement already satisfied: py>=1.8.2 in /opt/conda/lib/python3.8/site-packages (from pytest->dtreeviz==1.0->mljar-supervised==0.9.1) (1.10.0)\n",
      "Requirement already satisfied: packaging in /opt/conda/lib/python3.8/site-packages (from pytest->dtreeviz==1.0->mljar-supervised==0.9.1) (20.9)\n",
      "Requirement already satisfied: attrs>=19.2.0 in /opt/conda/lib/python3.8/site-packages (from pytest->dtreeviz==1.0->mljar-supervised==0.9.1) (20.3.0)\n",
      "Requirement already satisfied: toml in /opt/conda/lib/python3.8/site-packages (from pytest->dtreeviz==1.0->mljar-supervised==0.9.1) (0.10.2)\n"
     ]
    }
   ],
   "source": [
    "!pip install mljar-supervised==0.9.1"
   ]
  },
  {
   "cell_type": "code",
   "execution_count": 3,
   "id": "da24b575",
   "metadata": {},
   "outputs": [
    {
     "ename": "RuntimeError",
     "evalue": "module compiled against API version 0xe but this version of numpy is 0xd",
     "output_type": "error",
     "traceback": [
      "\u001b[0;31m---------------------------------------------------------------------------\u001b[0m",
      "\u001b[0;31mRuntimeError\u001b[0m                              Traceback (most recent call last)",
      "\u001b[0;31mRuntimeError\u001b[0m: module compiled against API version 0xe but this version of numpy is 0xd"
     ]
    }
   ],
   "source": [
    "import pandas as pd\n",
    "import numpy as np\n",
    "import matplotlib\n",
    "from matplotlib import pyplot\n",
    "from matplotlib.pyplot import figure\n",
    "%matplotlib inline\n",
    "from scipy import stats\n",
    "from sklearn.preprocessing import MinMaxScaler\n",
    "from sklearn.model_selection import train_test_split\n",
    "from xgboost import XGBRegressor\n",
    "\n",
    "from sklearn.metrics import roc_auc_score\n",
    "from math import sqrt\n",
    "\n",
    "from imblearn.over_sampling import SMOTE\n",
    "from supervised import AutoML"
   ]
  },
  {
   "cell_type": "markdown",
   "id": "1b5a6427",
   "metadata": {},
   "source": [
    "## Settings"
   ]
  },
  {
   "cell_type": "code",
   "execution_count": 4,
   "id": "b556d6d3",
   "metadata": {},
   "outputs": [],
   "source": [
    "RAW_DATA_DIR = \"./../data/raw\"\n",
    "INTERIM_DATA_DIR = \"./../data/interim\"\n",
    "PROCESSED_DATA_DIR = \"./../data/processed\"\n",
    "VERSION = \"v1.0\"\n",
    "params = {'axes.titlesize':'32',\n",
    "          'xtick.labelsize':'24',\n",
    "          'ytick.labelsize':'24'}\n",
    "matplotlib.rcParams.update(params)"
   ]
  },
  {
   "cell_type": "markdown",
   "id": "f15f5875",
   "metadata": {},
   "source": [
    "## Load Processed Data"
   ]
  },
  {
   "cell_type": "code",
   "execution_count": 5,
   "id": "38046829",
   "metadata": {},
   "outputs": [],
   "source": [
    "rmoutliers_scaled_df = pd.read_csv(f'{INTERIM_DATA_DIR}/Remove-Outliers-MinMaxScaled-v1.0.csv')\n",
    "rmoutliers_df = pd.read_csv(f'{INTERIM_DATA_DIR}/Remove-Outliers-v1.0.csv')"
   ]
  },
  {
   "cell_type": "markdown",
   "id": "5005aa2c",
   "metadata": {},
   "source": [
    "## Train Test Split"
   ]
  },
  {
   "cell_type": "code",
   "execution_count": 6,
   "id": "a0e0eef7",
   "metadata": {},
   "outputs": [
    {
     "data": {
      "text/plain": [
       "Index(['SeriousDlqin2yrs', 'RevolvingUtilizationOfUnsecuredLines', 'age',\n",
       "       'NumberOfTime30-59DaysPastDueNotWorse', 'DebtRatio', 'MonthlyIncome',\n",
       "       'NumberOfOpenCreditLinesAndLoans', 'NumberOfTimes90DaysLate',\n",
       "       'NumberRealEstateLoansOrLines', 'NumberOfTime60-89DaysPastDueNotWorse',\n",
       "       'NumberOfDependents'],\n",
       "      dtype='object')"
      ]
     },
     "execution_count": 6,
     "metadata": {},
     "output_type": "execute_result"
    }
   ],
   "source": [
    "rmoutliers_scaled_df.columns"
   ]
  },
  {
   "cell_type": "code",
   "execution_count": 7,
   "id": "a89c745d",
   "metadata": {},
   "outputs": [],
   "source": [
    "X = rmoutliers_scaled_df[['RevolvingUtilizationOfUnsecuredLines', 'age',\n",
    "       'NumberOfTime30-59DaysPastDueNotWorse', 'DebtRatio', 'MonthlyIncome',\n",
    "       'NumberOfOpenCreditLinesAndLoans', 'NumberOfTimes90DaysLate',\n",
    "       'NumberRealEstateLoansOrLines', 'NumberOfTime60-89DaysPastDueNotWorse',\n",
    "       'NumberOfDependents']] # Based on analysis from recursive feature elimination and xgb feature importance\n",
    "y = rmoutliers_scaled_df['SeriousDlqin2yrs']\n",
    "X_train, X_test, y_train, y_test = train_test_split(X, y, test_size=0.2, random_state=123)\n",
    "X_train02, X_test02, y_train02, y_test02 = train_test_split(rmoutliers_df[['RevolvingUtilizationOfUnsecuredLines', 'age',\n",
    "       'NumberOfTime30-59DaysPastDueNotWorse', 'DebtRatio', 'MonthlyIncome',\n",
    "       'NumberOfOpenCreditLinesAndLoans', 'NumberOfTimes90DaysLate',\n",
    "       'NumberRealEstateLoansOrLines', 'NumberOfTime60-89DaysPastDueNotWorse',\n",
    "       'NumberOfDependents']], rmoutliers_df[['SeriousDlqin2yrs']], test_size=0.2, random_state=123)\n",
    "\n",
    "# define min max scaler\n",
    "scaler = MinMaxScaler()\n",
    "scaler_X = scaler.fit(X_train02)\n",
    "scaler_y = scaler.fit(y_train02)\n",
    "\n",
    "X_resampled, y_resampled = SMOTE(sampling_strategy='minority', random_state=123).fit_resample(X_train, y_train)"
   ]
  },
  {
   "cell_type": "markdown",
   "id": "ea684d3c",
   "metadata": {},
   "source": [
    "## Base Model"
   ]
  },
  {
   "cell_type": "code",
   "execution_count": 8,
   "id": "0d3bc514",
   "metadata": {},
   "outputs": [
    {
     "name": "stdout",
     "output_type": "stream",
     "text": [
      "Linear algorithm was disabled.\n",
      "AutoML directory: AutoML_1\n",
      "The task is binary_classification with evaluation metric auc\n",
      "AutoML will use algorithms: ['Random Forest', 'LightGBM', 'Xgboost', 'CatBoost', 'Neural Network']\n",
      "AutoML steps: ['simple_algorithms', 'default_algorithms', 'not_so_random', 'insert_random_feature', 'features_selection', 'hill_climbing_1', 'hill_climbing_2']\n",
      "Skip simple_algorithms because no parameters were generated.\n",
      "* Step default_algorithms will try to check up to 5 models\n",
      "1_Default_LightGBM auc 0.989564 trained in 401.16 seconds (1-sample predict time 0.0227 seconds)\n",
      "2_Default_Xgboost auc 0.988365 trained in 126.8 seconds (1-sample predict time 0.0257 seconds)\n",
      "3_Default_CatBoost auc 0.98904 trained in 165.64 seconds (1-sample predict time 0.024 seconds)\n",
      "4_Default_NeuralNetwork auc 0.895085 trained in 63.28 seconds (1-sample predict time 0.0223 seconds)\n",
      "5_Default_RandomForest auc 0.927282 trained in 79.04 seconds (1-sample predict time 0.0928 seconds)\n",
      "* Step not_so_random will try to check up to 20 models\n",
      "10_LightGBM auc 0.989137 trained in 175.32 seconds (1-sample predict time 0.0247 seconds)\n",
      "6_Xgboost auc 0.989066 trained in 114.14 seconds (1-sample predict time 0.0223 seconds)\n",
      "14_CatBoost auc 0.988773 trained in 92.19 seconds (1-sample predict time 0.0239 seconds)\n",
      "18_RandomForest auc 0.937405 trained in 58.62 seconds (1-sample predict time 0.0751 seconds)\n",
      "22_NeuralNetwork auc 0.899748 trained in 71.76 seconds (1-sample predict time 0.0208 seconds)\n",
      "11_LightGBM auc 0.98905 trained in 204.56 seconds (1-sample predict time 0.0228 seconds)\n",
      "7_Xgboost auc 0.9887 trained in 180.18 seconds (1-sample predict time 0.0233 seconds)\n",
      "15_CatBoost auc 0.98907 trained in 142.04 seconds (1-sample predict time 0.0236 seconds)\n",
      "19_RandomForest auc 0.917152 trained in 45.42 seconds (1-sample predict time 0.0491 seconds)\n",
      "23_NeuralNetwork auc 0.852542 trained in 54.75 seconds (1-sample predict time 0.0208 seconds)\n",
      "12_LightGBM auc 0.989888 trained in 268.82 seconds (1-sample predict time 0.0236 seconds)\n",
      "8_Xgboost auc 0.988164 trained in 522.17 seconds (1-sample predict time 0.0274 seconds)\n",
      "Not enough time to perform features selection. Skip\n",
      "Time needed for features selection ~ 924.0 seconds\n",
      "Please increase total_time_limit to at least (9302 seconds) to have features selection\n",
      "Skip insert_random_feature because no parameters were generated.\n",
      "Skip features_selection because no parameters were generated.\n",
      "* Step hill_climbing_1 will try to check up to 17 models\n",
      "24_LightGBM auc 0.98983 trained in 146.73 seconds (1-sample predict time 0.0215 seconds)\n",
      "25_LightGBM auc 0.989388 trained in 207.25 seconds (1-sample predict time 0.0226 seconds)\n",
      "26_CatBoost auc 0.989055 trained in 145.17 seconds (1-sample predict time 0.0229 seconds)\n",
      "* Step hill_climbing_2 will try to check up to 15 models\n",
      "27_LightGBM auc 0.9895 trained in 94.1 seconds (1-sample predict time 0.0209 seconds)\n",
      "28_CatBoost auc 0.98917 trained in 258.2 seconds (1-sample predict time 0.0247 seconds)\n",
      "AutoML fit time: 3623.65 seconds\n",
      "AutoML best model: 12_LightGBM\n"
     ]
    },
    {
     "data": {
      "text/plain": [
       "AutoML(eval_metric='auc', golden_features=False,\n",
       "       ml_task='binary_classification', mode='Perform', random_state=123,\n",
       "       stack_models=False, train_ensemble=False)"
      ]
     },
     "execution_count": 8,
     "metadata": {},
     "output_type": "execute_result"
    }
   ],
   "source": [
    "automl = AutoML(mode=\"Perform\", ml_task='binary_classification', eval_metric='auc', golden_features=False, train_ensemble=False, stack_models=False, random_state=123)\n",
    "automl.fit(X_resampled, y_resampled)"
   ]
  },
  {
   "cell_type": "code",
   "execution_count": 22,
   "id": "d4d1d46b",
   "metadata": {},
   "outputs": [],
   "source": [
    "y_pred_prob = automl.predict_proba(X_test)"
   ]
  },
  {
   "cell_type": "code",
   "execution_count": 23,
   "id": "9247e05e",
   "metadata": {},
   "outputs": [
    {
     "data": {
      "text/plain": [
       "array([[0.97816936, 0.02183064],\n",
       "       [0.98913798, 0.01086202],\n",
       "       [0.43847366, 0.56152634],\n",
       "       ...,\n",
       "       [0.86731137, 0.13268863],\n",
       "       [0.87668756, 0.12331244],\n",
       "       [0.96459646, 0.03540354]])"
      ]
     },
     "execution_count": 23,
     "metadata": {},
     "output_type": "execute_result"
    }
   ],
   "source": [
    "y_pred_prob"
   ]
  },
  {
   "cell_type": "code",
   "execution_count": 24,
   "id": "2c1dace9",
   "metadata": {},
   "outputs": [
    {
     "name": "stdout",
     "output_type": "stream",
     "text": [
      "AUROC: 0.85%\n"
     ]
    }
   ],
   "source": [
    "print(f\"AUROC: {roc_auc_score(y_test, y_pred_prob[:, 1]):.2f}%\")"
   ]
  },
  {
   "cell_type": "markdown",
   "id": "a1f72508",
   "metadata": {},
   "source": [
    "## Load Test Data"
   ]
  },
  {
   "cell_type": "code",
   "execution_count": 25,
   "id": "2dab35d4",
   "metadata": {},
   "outputs": [],
   "source": [
    "test_df = pd.read_csv(f'{RAW_DATA_DIR}/cs-test.csv')"
   ]
  },
  {
   "cell_type": "code",
   "execution_count": 26,
   "id": "e8d347b1",
   "metadata": {},
   "outputs": [
    {
     "name": "stdout",
     "output_type": "stream",
     "text": [
      "[4.05810494e-05 2.65060241e-01 0.00000000e+00 6.61556156e-07\n",
      " 7.37673094e-04 4.70588235e-02 0.00000000e+00 0.00000000e+00\n",
      " 0.00000000e+00 0.00000000e+00]\n"
     ]
    }
   ],
   "source": [
    "test_df_X = test_df[['RevolvingUtilizationOfUnsecuredLines', 'age',\n",
    "       'NumberOfTime30-59DaysPastDueNotWorse', 'DebtRatio', 'MonthlyIncome',\n",
    "       'NumberOfOpenCreditLinesAndLoans', 'NumberOfTimes90DaysLate',\n",
    "       'NumberRealEstateLoansOrLines', 'NumberOfTime60-89DaysPastDueNotWorse',\n",
    "       'NumberOfDependents']]\n",
    "\n",
    "# define min max scaler\n",
    "scaler02 = MinMaxScaler()\n",
    "# transform data\n",
    "scaled02 = scaler02.fit_transform(test_df_X)\n",
    "print(scaled02[0])\n",
    "scaled_test_df = pd.DataFrame(scaled02, columns=test_df_X.columns) \n",
    "\n",
    "test_X = scaled_test_df[['RevolvingUtilizationOfUnsecuredLines', 'age',\n",
    "       'NumberOfTime30-59DaysPastDueNotWorse', 'DebtRatio', 'MonthlyIncome',\n",
    "       'NumberOfOpenCreditLinesAndLoans', 'NumberOfTimes90DaysLate',\n",
    "       'NumberRealEstateLoansOrLines', 'NumberOfTime60-89DaysPastDueNotWorse',\n",
    "       'NumberOfDependents']]"
   ]
  },
  {
   "cell_type": "code",
   "execution_count": 27,
   "id": "a1872814",
   "metadata": {},
   "outputs": [],
   "source": [
    "preds = automl.predict_proba(test_X)"
   ]
  },
  {
   "cell_type": "code",
   "execution_count": 28,
   "id": "5e99fd87",
   "metadata": {},
   "outputs": [
    {
     "data": {
      "text/plain": [
       "array([[3.64065736e-01, 6.35934264e-01],\n",
       "       [1.11715014e-03, 9.98882850e-01],\n",
       "       [7.07595741e-05, 9.99929240e-01],\n",
       "       ...,\n",
       "       [3.32360446e-01, 6.67639554e-01],\n",
       "       [8.58115854e-02, 9.14188415e-01],\n",
       "       [3.29474103e-01, 6.70525897e-01]])"
      ]
     },
     "execution_count": 28,
     "metadata": {},
     "output_type": "execute_result"
    }
   ],
   "source": [
    "preds"
   ]
  },
  {
   "cell_type": "markdown",
   "id": "f3654155",
   "metadata": {},
   "source": [
    "## Export Results"
   ]
  },
  {
   "cell_type": "code",
   "execution_count": 29,
   "id": "a1d94ce5",
   "metadata": {},
   "outputs": [],
   "source": [
    "submission = pd.read_csv(f\"{RAW_DATA_DIR}/sampleEntry.csv\")\n",
    "submission[\"Probability\"]=preds[:, 1]\n",
    "submission.to_csv(f'{PROCESSED_DATA_DIR}/submission.csv', index=False)"
   ]
  },
  {
   "cell_type": "code",
   "execution_count": null,
   "id": "dcae6898",
   "metadata": {},
   "outputs": [],
   "source": []
  }
 ],
 "metadata": {
  "kernelspec": {
   "display_name": "Python 3",
   "language": "python",
   "name": "python3"
  },
  "language_info": {
   "codemirror_mode": {
    "name": "ipython",
    "version": 3
   },
   "file_extension": ".py",
   "mimetype": "text/x-python",
   "name": "python",
   "nbconvert_exporter": "python",
   "pygments_lexer": "ipython3",
   "version": "3.8.8"
  }
 },
 "nbformat": 4,
 "nbformat_minor": 5
}
