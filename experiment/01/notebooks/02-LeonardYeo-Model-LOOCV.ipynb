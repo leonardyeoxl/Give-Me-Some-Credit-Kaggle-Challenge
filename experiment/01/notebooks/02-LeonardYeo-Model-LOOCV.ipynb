{
 "cells": [
  {
   "cell_type": "markdown",
   "id": "cc82b7b6",
   "metadata": {},
   "source": [
    "# Model"
   ]
  },
  {
   "cell_type": "code",
   "execution_count": 1,
   "id": "c4078d21",
   "metadata": {},
   "outputs": [
    {
     "name": "stdout",
     "output_type": "stream",
     "text": [
      "Collecting imbalanced-learn==0.8.0\n",
      "  Downloading imbalanced_learn-0.8.0-py3-none-any.whl (206 kB)\n",
      "\u001b[K     |████████████████████████████████| 206 kB 15.6 MB/s eta 0:00:01\n",
      "\u001b[?25hRequirement already satisfied: scipy>=0.19.1 in /opt/conda/lib/python3.8/site-packages (from imbalanced-learn==0.8.0) (1.6.2)\n",
      "Requirement already satisfied: scikit-learn>=0.24 in /opt/conda/lib/python3.8/site-packages (from imbalanced-learn==0.8.0) (0.24.1)\n",
      "Requirement already satisfied: joblib>=0.11 in /opt/conda/lib/python3.8/site-packages (from imbalanced-learn==0.8.0) (1.0.1)\n",
      "Requirement already satisfied: numpy>=1.13.3 in /opt/conda/lib/python3.8/site-packages (from imbalanced-learn==0.8.0) (1.20.2)\n",
      "Requirement already satisfied: threadpoolctl>=2.0.0 in /opt/conda/lib/python3.8/site-packages (from scikit-learn>=0.24->imbalanced-learn==0.8.0) (2.1.0)\n",
      "Installing collected packages: imbalanced-learn\n",
      "Successfully installed imbalanced-learn-0.8.0\n"
     ]
    }
   ],
   "source": [
    "!pip install imbalanced-learn==0.8.0"
   ]
  },
  {
   "cell_type": "code",
   "execution_count": 2,
   "id": "8b1f3828",
   "metadata": {},
   "outputs": [
    {
     "name": "stdout",
     "output_type": "stream",
     "text": [
      "Collecting xgboost==1.4.0\n",
      "  Downloading xgboost-1.4.0-py3-none-manylinux2010_x86_64.whl (166.7 MB)\n",
      "\u001b[K     |████████████████████████████████| 166.7 MB 60.4 MB/s eta 0:00:01\n",
      "\u001b[?25hRequirement already satisfied: scipy in /opt/conda/lib/python3.8/site-packages (from xgboost==1.4.0) (1.6.2)\n",
      "Requirement already satisfied: numpy in /opt/conda/lib/python3.8/site-packages (from xgboost==1.4.0) (1.20.2)\n",
      "Installing collected packages: xgboost\n",
      "Successfully installed xgboost-1.4.0\n"
     ]
    }
   ],
   "source": [
    "!pip install xgboost==1.4.0"
   ]
  },
  {
   "cell_type": "code",
   "execution_count": 3,
   "id": "0bb14673",
   "metadata": {},
   "outputs": [],
   "source": [
    "import warnings\n",
    "warnings.filterwarnings(\"ignore\")\n",
    "\n",
    "import pandas as pd\n",
    "import numpy as np\n",
    "import matplotlib\n",
    "from matplotlib import pyplot\n",
    "from matplotlib.pyplot import figure\n",
    "%matplotlib inline\n",
    "from scipy import stats\n",
    "from sklearn.preprocessing import MinMaxScaler\n",
    "from sklearn.model_selection import train_test_split, LeaveOneOut, GridSearchCV\n",
    "from xgboost import XGBClassifier\n",
    "\n",
    "from sklearn.metrics import roc_auc_score\n",
    "from math import sqrt\n",
    "\n",
    "from imblearn.over_sampling import SMOTE"
   ]
  },
  {
   "cell_type": "markdown",
   "id": "e9de92cd",
   "metadata": {},
   "source": [
    "## Settings"
   ]
  },
  {
   "cell_type": "code",
   "execution_count": 4,
   "id": "7ea74628",
   "metadata": {},
   "outputs": [],
   "source": [
    "RAW_DATA_DIR = \"./../data/raw\"\n",
    "INTERIM_DATA_DIR = \"./../data/interim\"\n",
    "PROCESSED_DATA_DIR = \"./../data/processed\"\n",
    "VERSION = \"v1.0\"\n",
    "params = {'axes.titlesize':'32',\n",
    "          'xtick.labelsize':'24',\n",
    "          'ytick.labelsize':'24'}\n",
    "matplotlib.rcParams.update(params)"
   ]
  },
  {
   "cell_type": "markdown",
   "id": "a9fe5f20",
   "metadata": {},
   "source": [
    "## Load Processed Data"
   ]
  },
  {
   "cell_type": "code",
   "execution_count": 5,
   "id": "3af23a3d",
   "metadata": {},
   "outputs": [],
   "source": [
    "rmoutliers_scaled_df = pd.read_csv(f'{INTERIM_DATA_DIR}/Remove-Outliers-MinMaxScaled-v1.0.csv')\n",
    "rmoutliers_df = pd.read_csv(f'{INTERIM_DATA_DIR}/Remove-Outliers-v1.0.csv')"
   ]
  },
  {
   "cell_type": "markdown",
   "id": "ab61c290",
   "metadata": {},
   "source": [
    "## Train Test Split"
   ]
  },
  {
   "cell_type": "code",
   "execution_count": 6,
   "id": "c26cae9c",
   "metadata": {},
   "outputs": [
    {
     "data": {
      "text/plain": [
       "Index(['SeriousDlqin2yrs', 'RevolvingUtilizationOfUnsecuredLines', 'age',\n",
       "       'NumberOfTime30-59DaysPastDueNotWorse', 'DebtRatio', 'MonthlyIncome',\n",
       "       'NumberOfOpenCreditLinesAndLoans', 'NumberOfTimes90DaysLate',\n",
       "       'NumberRealEstateLoansOrLines', 'NumberOfTime60-89DaysPastDueNotWorse',\n",
       "       'NumberOfDependents'],\n",
       "      dtype='object')"
      ]
     },
     "execution_count": 6,
     "metadata": {},
     "output_type": "execute_result"
    }
   ],
   "source": [
    "rmoutliers_scaled_df.columns"
   ]
  },
  {
   "cell_type": "code",
   "execution_count": 7,
   "id": "7b401eea",
   "metadata": {},
   "outputs": [],
   "source": [
    "X = rmoutliers_scaled_df[['RevolvingUtilizationOfUnsecuredLines', 'age',\n",
    "       'NumberOfTime30-59DaysPastDueNotWorse', 'DebtRatio', 'MonthlyIncome',\n",
    "       'NumberOfOpenCreditLinesAndLoans', 'NumberOfTimes90DaysLate',\n",
    "       'NumberRealEstateLoansOrLines', 'NumberOfTime60-89DaysPastDueNotWorse',\n",
    "       'NumberOfDependents']].to_numpy() # Based on analysis from recursive feature elimination and xgb feature importance\n",
    "y = rmoutliers_scaled_df['SeriousDlqin2yrs'].to_numpy()\n",
    "X_train, X_test, y_train, y_test = train_test_split(X, y, test_size=0.2, random_state=123)\n",
    "X_resampled, y_resampled = SMOTE(sampling_strategy='minority', random_state=123).fit_resample(X_train, y_train)"
   ]
  },
  {
   "cell_type": "markdown",
   "id": "20f0e583",
   "metadata": {},
   "source": [
    "## Base Model"
   ]
  },
  {
   "cell_type": "code",
   "execution_count": null,
   "id": "9ce0a097",
   "metadata": {},
   "outputs": [],
   "source": [
    "# eval_set = [(X_test, y_test)]\n",
    "# model = XGBClassifier(use_label_encoder=False, seed=123, random_state=123)\n",
    "# model.fit(X_train, y_train, eval_metric=\"auc\", eval_set=eval_set, verbose=False)\n",
    "\n",
    "parameters = {\n",
    "    \"objective\": [\"binary:logistic\"],\n",
    "    \"eval_metric\": [\"auc\"],\n",
    "}\n",
    "\n",
    "loo = LeaveOneOut()\n",
    "model = XGBClassifier(use_label_encoder=False, objective=\"binary:logistic\", seed=123, random_state=123)\n",
    "grid_search = GridSearchCV(estimator=model, param_grid=parameters, scoring='roc_auc', cv=loo)\n",
    "grid_search.fit(X_resampled, y_resampled)"
   ]
  },
  {
   "cell_type": "code",
   "execution_count": null,
   "id": "87a01d4d",
   "metadata": {},
   "outputs": [],
   "source": [
    "y_pred_prob = model.predict_proba(X_test)"
   ]
  },
  {
   "cell_type": "code",
   "execution_count": null,
   "id": "b0bfa2bb",
   "metadata": {},
   "outputs": [],
   "source": [
    "y_pred_prob"
   ]
  },
  {
   "cell_type": "code",
   "execution_count": null,
   "id": "bc6b9ea8",
   "metadata": {},
   "outputs": [],
   "source": [
    "print(f\"AUROC: {roc_auc_score(y_test, y_pred_prob[:, 1]):.2f}%\")"
   ]
  },
  {
   "cell_type": "markdown",
   "id": "d79bf353",
   "metadata": {},
   "source": [
    "## Tuning"
   ]
  },
  {
   "cell_type": "code",
   "execution_count": null,
   "id": "e2b29138",
   "metadata": {},
   "outputs": [],
   "source": []
  },
  {
   "cell_type": "markdown",
   "id": "10ccebb3",
   "metadata": {},
   "source": [
    "## Load Test Data"
   ]
  },
  {
   "cell_type": "code",
   "execution_count": null,
   "id": "fb7857cd",
   "metadata": {},
   "outputs": [],
   "source": [
    "test_df = pd.read_csv(f'{RAW_DATA_DIR}/cs-test.csv')"
   ]
  },
  {
   "cell_type": "code",
   "execution_count": null,
   "id": "eadd8350",
   "metadata": {},
   "outputs": [],
   "source": [
    "test_df_X = test_df[['RevolvingUtilizationOfUnsecuredLines', 'age',\n",
    "       'NumberOfTime30-59DaysPastDueNotWorse', 'DebtRatio', 'MonthlyIncome',\n",
    "       'NumberOfOpenCreditLinesAndLoans', 'NumberOfTimes90DaysLate',\n",
    "       'NumberRealEstateLoansOrLines', 'NumberOfTime60-89DaysPastDueNotWorse',\n",
    "       'NumberOfDependents']]\n",
    "\n",
    "# define min max scaler\n",
    "scaler02 = MinMaxScaler()\n",
    "# transform data\n",
    "scaled02 = scaler02.fit_transform(test_df_X)\n",
    "print(scaled02[0])\n",
    "scaled_test_df = pd.DataFrame(scaled02, columns=test_df_X.columns) \n",
    "\n",
    "test_X = scaled_test_df[['RevolvingUtilizationOfUnsecuredLines', 'age',\n",
    "       'NumberOfTime30-59DaysPastDueNotWorse', 'DebtRatio', 'MonthlyIncome',\n",
    "       'NumberOfOpenCreditLinesAndLoans', 'NumberOfTimes90DaysLate',\n",
    "       'NumberRealEstateLoansOrLines', 'NumberOfTime60-89DaysPastDueNotWorse',\n",
    "       'NumberOfDependents']]"
   ]
  },
  {
   "cell_type": "code",
   "execution_count": null,
   "id": "b2f5e8a3",
   "metadata": {},
   "outputs": [],
   "source": [
    "preds = automl.predict_proba(test_X)"
   ]
  },
  {
   "cell_type": "code",
   "execution_count": null,
   "id": "a3b2e08b",
   "metadata": {},
   "outputs": [],
   "source": [
    "preds"
   ]
  },
  {
   "cell_type": "markdown",
   "id": "3790bf52",
   "metadata": {},
   "source": [
    "## Export Results"
   ]
  },
  {
   "cell_type": "code",
   "execution_count": null,
   "id": "2bbcdd58",
   "metadata": {},
   "outputs": [],
   "source": [
    "submission = pd.read_csv(f\"{RAW_DATA_DIR}/sampleEntry.csv\")\n",
    "submission[\"Probability\"]=preds[:, 1]\n",
    "submission.to_csv(f'{PROCESSED_DATA_DIR}/submission.csv', index=False)"
   ]
  },
  {
   "cell_type": "code",
   "execution_count": null,
   "id": "2cfc3144",
   "metadata": {},
   "outputs": [],
   "source": []
  }
 ],
 "metadata": {
  "kernelspec": {
   "display_name": "Python 3",
   "language": "python",
   "name": "python3"
  },
  "language_info": {
   "codemirror_mode": {
    "name": "ipython",
    "version": 3
   },
   "file_extension": ".py",
   "mimetype": "text/x-python",
   "name": "python",
   "nbconvert_exporter": "python",
   "pygments_lexer": "ipython3",
   "version": "3.8.8"
  }
 },
 "nbformat": 4,
 "nbformat_minor": 5
}
