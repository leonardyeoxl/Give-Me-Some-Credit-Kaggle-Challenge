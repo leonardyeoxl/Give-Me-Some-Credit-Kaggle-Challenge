{
 "cells": [
  {
   "cell_type": "markdown",
   "id": "bc7c81b3",
   "metadata": {},
   "source": [
    "# Model"
   ]
  },
  {
   "cell_type": "code",
   "execution_count": 1,
   "id": "6f501764",
   "metadata": {},
   "outputs": [
    {
     "name": "stdout",
     "output_type": "stream",
     "text": [
      "Requirement already satisfied: imbalanced-learn==0.8.0 in /opt/conda/lib/python3.8/site-packages (0.8.0)\n",
      "Requirement already satisfied: numpy>=1.13.3 in /opt/conda/lib/python3.8/site-packages (from imbalanced-learn==0.8.0) (1.20.2)\n",
      "Requirement already satisfied: scipy>=0.19.1 in /opt/conda/lib/python3.8/site-packages (from imbalanced-learn==0.8.0) (1.6.2)\n",
      "Requirement already satisfied: scikit-learn>=0.24 in /opt/conda/lib/python3.8/site-packages (from imbalanced-learn==0.8.0) (0.24.1)\n",
      "Requirement already satisfied: joblib>=0.11 in /opt/conda/lib/python3.8/site-packages (from imbalanced-learn==0.8.0) (1.0.1)\n",
      "Requirement already satisfied: threadpoolctl>=2.0.0 in /opt/conda/lib/python3.8/site-packages (from scikit-learn>=0.24->imbalanced-learn==0.8.0) (2.1.0)\n"
     ]
    }
   ],
   "source": [
    "!pip install imbalanced-learn==0.8.0"
   ]
  },
  {
   "cell_type": "code",
   "execution_count": 2,
   "id": "cc5ca517",
   "metadata": {},
   "outputs": [
    {
     "name": "stdout",
     "output_type": "stream",
     "text": [
      "Requirement already satisfied: xgboost==1.4.0 in /opt/conda/lib/python3.8/site-packages (1.4.0)\n",
      "Requirement already satisfied: scipy in /opt/conda/lib/python3.8/site-packages (from xgboost==1.4.0) (1.6.2)\n",
      "Requirement already satisfied: numpy in /opt/conda/lib/python3.8/site-packages (from xgboost==1.4.0) (1.20.2)\n"
     ]
    }
   ],
   "source": [
    "!pip install xgboost==1.4.0"
   ]
  },
  {
   "cell_type": "code",
   "execution_count": 3,
   "id": "0a033aa7",
   "metadata": {},
   "outputs": [],
   "source": [
    "import warnings\n",
    "warnings.filterwarnings(\"ignore\")\n",
    "\n",
    "import pandas as pd\n",
    "import numpy as np\n",
    "import matplotlib\n",
    "from matplotlib import pyplot\n",
    "from matplotlib.pyplot import figure\n",
    "%matplotlib inline\n",
    "from scipy import stats\n",
    "from sklearn.preprocessing import MinMaxScaler\n",
    "from sklearn.model_selection import train_test_split, KFold, cross_val_score, GridSearchCV\n",
    "import xgboost as xgb\n",
    "from xgboost import XGBClassifier\n",
    "\n",
    "from sklearn.metrics import roc_auc_score, classification_report, confusion_matrix, log_loss\n",
    "from math import sqrt\n",
    "\n",
    "from imblearn.over_sampling import SMOTE"
   ]
  },
  {
   "cell_type": "markdown",
   "id": "60415a7f",
   "metadata": {},
   "source": [
    "## Settings"
   ]
  },
  {
   "cell_type": "code",
   "execution_count": 4,
   "id": "640d6952",
   "metadata": {},
   "outputs": [],
   "source": [
    "RAW_DATA_DIR = \"./../data/raw\"\n",
    "INTERIM_DATA_DIR = \"./../data/interim\"\n",
    "PROCESSED_DATA_DIR = \"./../data/processed\"\n",
    "VERSION = \"v1.0\"\n",
    "params = {'axes.titlesize':'32',\n",
    "          'xtick.labelsize':'24',\n",
    "          'ytick.labelsize':'24'}\n",
    "matplotlib.rcParams.update(params)"
   ]
  },
  {
   "cell_type": "markdown",
   "id": "dcf65064",
   "metadata": {},
   "source": [
    "## Load Processed Data"
   ]
  },
  {
   "cell_type": "code",
   "execution_count": 5,
   "id": "c8fc413c",
   "metadata": {},
   "outputs": [],
   "source": [
    "rmoutliers_scaled_df = pd.read_csv(f'{INTERIM_DATA_DIR}/Remove-Outliers-MinMaxScaled-v1.0.csv')\n",
    "rmoutliers_df = pd.read_csv(f'{INTERIM_DATA_DIR}/Remove-Outliers-v1.0.csv')"
   ]
  },
  {
   "cell_type": "markdown",
   "id": "94c06f09",
   "metadata": {},
   "source": [
    "## Train Test Split"
   ]
  },
  {
   "cell_type": "code",
   "execution_count": 6,
   "id": "1b7b2be6",
   "metadata": {},
   "outputs": [
    {
     "data": {
      "text/plain": [
       "Index(['SeriousDlqin2yrs', 'RevolvingUtilizationOfUnsecuredLines', 'age',\n",
       "       'NumberOfTime30-59DaysPastDueNotWorse', 'DebtRatio', 'MonthlyIncome',\n",
       "       'NumberOfOpenCreditLinesAndLoans', 'NumberOfTimes90DaysLate',\n",
       "       'NumberRealEstateLoansOrLines', 'NumberOfTime60-89DaysPastDueNotWorse',\n",
       "       'NumberOfDependents'],\n",
       "      dtype='object')"
      ]
     },
     "execution_count": 6,
     "metadata": {},
     "output_type": "execute_result"
    }
   ],
   "source": [
    "rmoutliers_scaled_df.columns"
   ]
  },
  {
   "cell_type": "code",
   "execution_count": 7,
   "id": "057f3270",
   "metadata": {},
   "outputs": [],
   "source": [
    "X = rmoutliers_scaled_df[['RevolvingUtilizationOfUnsecuredLines', 'age',\n",
    "       'DebtRatio', 'MonthlyIncome',\n",
    "       'NumberOfOpenCreditLinesAndLoans']] # Based on analysis from recursive feature elimination and xgb feature importance\n",
    "y = rmoutliers_scaled_df['SeriousDlqin2yrs']\n",
    "X_train, X_test, y_train, y_test = train_test_split(X, y, test_size=0.2, random_state=123)\n",
    "X_train02, X_test02, y_train02, y_test02 = train_test_split(rmoutliers_df[['RevolvingUtilizationOfUnsecuredLines', 'age',\n",
    "       'DebtRatio', 'MonthlyIncome',\n",
    "       'NumberOfOpenCreditLinesAndLoans']], rmoutliers_df[['SeriousDlqin2yrs']], test_size=0.2, random_state=123)\n",
    "\n",
    "# define min max scaler\n",
    "scaler = MinMaxScaler()\n",
    "scaler_X = scaler.fit(X_train02)\n",
    "scaler_y = scaler.fit(y_train02)\n",
    "\n",
    "X_resampled, y_resampled = SMOTE(sampling_strategy='minority', random_state=123).fit_resample(X_train, y_train)"
   ]
  },
  {
   "cell_type": "markdown",
   "id": "3b8da19f",
   "metadata": {},
   "source": [
    "## Base Model with Kfolds"
   ]
  },
  {
   "cell_type": "code",
   "execution_count": 8,
   "id": "d974a7b7",
   "metadata": {},
   "outputs": [
    {
     "data": {
      "text/plain": [
       "GridSearchCV(cv=KFold(n_splits=10, random_state=123, shuffle=True),\n",
       "             estimator=XGBClassifier(base_score=None, booster=None,\n",
       "                                     colsample_bylevel=None,\n",
       "                                     colsample_bynode=None,\n",
       "                                     colsample_bytree=None, gamma=None,\n",
       "                                     gpu_id=None, importance_type='gain',\n",
       "                                     interaction_constraints=None,\n",
       "                                     learning_rate=None, max_delta_step=None,\n",
       "                                     max_depth=None, min_child_weight=None,\n",
       "                                     missing=nan, monotone_constraints=None,\n",
       "                                     n_estimators=100, n_jobs=None,\n",
       "                                     num_parallel_tree=None, random_state=123,\n",
       "                                     reg_alpha=None, reg_lambda=None,\n",
       "                                     scale_pos_weight=None, seed=123,\n",
       "                                     subsample=None, tree_method=None,\n",
       "                                     use_label_encoder=False,\n",
       "                                     validate_parameters=None, verbosity=None),\n",
       "             param_grid={'eval_metric': ['auc'],\n",
       "                         'objective': ['binary:logistic']},\n",
       "             scoring='roc_auc')"
      ]
     },
     "execution_count": 8,
     "metadata": {},
     "output_type": "execute_result"
    }
   ],
   "source": [
    "# eval_set = [(X_test, y_test)]\n",
    "# model = XGBClassifier(use_label_encoder=False, seed=123, random_state=123)\n",
    "# model.fit(X_train, y_train, eval_metric=\"auc\", eval_set=eval_set, verbose=True)\n",
    "\n",
    "# parameters = {\n",
    "#     \"objective\": [\"binary:logistic\"],\n",
    "#     \"eval_metric\": [\"auc\"],\n",
    "#     \"eta\": [0.05, 0.075, 0.1, 0.15],\n",
    "#     \"max_depth\": [1, 2, 3, 4, 5, 6, 7, 8, 9],\n",
    "#     \"min_child_weight\": [1, 2, 3, 4, 5, 6, 7, 8, 9, 10],\n",
    "#     \"subsample\": [0.3, 0.4, 0.5, 0.6, 0.7, 0.8, 0.9, 1.0],\n",
    "#     \"colsample_bytree\": [0.3, 0.4, 0.5, 0.6, 0.7, 0.8, 0.9, 1.0],\n",
    "# }\n",
    "\n",
    "parameters = {\n",
    "    \"objective\": [\"binary:logistic\"],\n",
    "    \"eval_metric\": [\"auc\"],\n",
    "}\n",
    "\n",
    "kfold = KFold(n_splits=10, shuffle=True, random_state=123)\n",
    "model = XGBClassifier(use_label_encoder=False, objective=\"binary:logistic\", seed=123, random_state=123)\n",
    "grid_search = GridSearchCV(estimator=model, param_grid=parameters, scoring='roc_auc', cv=kfold)\n",
    "grid_search.fit(X_resampled, y_resampled)"
   ]
  },
  {
   "cell_type": "markdown",
   "id": "fb1e8e3a",
   "metadata": {},
   "source": [
    "## Metrics"
   ]
  },
  {
   "cell_type": "code",
   "execution_count": 9,
   "id": "7e0dab56",
   "metadata": {},
   "outputs": [],
   "source": [
    "y_pred_prob = grid_search.predict_proba(X_test)"
   ]
  },
  {
   "cell_type": "code",
   "execution_count": 10,
   "id": "c4f45675",
   "metadata": {},
   "outputs": [
    {
     "data": {
      "text/plain": [
       "array([[0.9432499 , 0.05675013],\n",
       "       [0.95315164, 0.04684836],\n",
       "       [0.5890729 , 0.41092712],\n",
       "       ...,\n",
       "       [0.8063066 , 0.19369343],\n",
       "       [0.884211  , 0.11578898],\n",
       "       [0.89845365, 0.10154637]], dtype=float32)"
      ]
     },
     "execution_count": 10,
     "metadata": {},
     "output_type": "execute_result"
    }
   ],
   "source": [
    "y_pred_prob"
   ]
  },
  {
   "cell_type": "code",
   "execution_count": 11,
   "id": "c52e9e30",
   "metadata": {},
   "outputs": [
    {
     "name": "stdout",
     "output_type": "stream",
     "text": [
      "AUROC: 0.7691119297718343\n"
     ]
    }
   ],
   "source": [
    "print(f\"AUROC: {roc_auc_score(y_test, y_pred_prob[:, 1])}\")"
   ]
  },
  {
   "cell_type": "code",
   "execution_count": 12,
   "id": "d33762b9",
   "metadata": {},
   "outputs": [],
   "source": [
    "y_pred = grid_search.predict(X_test)"
   ]
  },
  {
   "cell_type": "code",
   "execution_count": 13,
   "id": "aeaa6105",
   "metadata": {},
   "outputs": [
    {
     "name": "stdout",
     "output_type": "stream",
     "text": [
      "              precision    recall  f1-score   support\n",
      "\n",
      "           0       0.94      0.98      0.96     20101\n",
      "           1       0.34      0.11      0.16      1455\n",
      "\n",
      "    accuracy                           0.93     21556\n",
      "   macro avg       0.64      0.55      0.56     21556\n",
      "weighted avg       0.90      0.93      0.91     21556\n",
      "\n"
     ]
    }
   ],
   "source": [
    "print(classification_report(y_test, y_pred, labels=[0,1]))"
   ]
  },
  {
   "cell_type": "code",
   "execution_count": 14,
   "id": "0a15142e",
   "metadata": {},
   "outputs": [
    {
     "data": {
      "text/plain": [
       "array([[19787,   314],\n",
       "       [ 1296,   159]])"
      ]
     },
     "execution_count": 14,
     "metadata": {},
     "output_type": "execute_result"
    }
   ],
   "source": [
    "confusion_matrix(y_test, y_pred)"
   ]
  },
  {
   "cell_type": "code",
   "execution_count": 15,
   "id": "7f7f3c1c",
   "metadata": {},
   "outputs": [
    {
     "data": {
      "text/plain": [
       "2.5796845921970353"
      ]
     },
     "execution_count": 15,
     "metadata": {},
     "output_type": "execute_result"
    }
   ],
   "source": [
    "log_loss(y_test, y_pred)"
   ]
  },
  {
   "cell_type": "markdown",
   "id": "a2fdc066",
   "metadata": {},
   "source": [
    "## Load Test Data"
   ]
  },
  {
   "cell_type": "code",
   "execution_count": 16,
   "id": "7a720392",
   "metadata": {},
   "outputs": [],
   "source": [
    "test_df = pd.read_csv(f'{RAW_DATA_DIR}/cs-test.csv')"
   ]
  },
  {
   "cell_type": "code",
   "execution_count": 17,
   "id": "da989878",
   "metadata": {},
   "outputs": [
    {
     "name": "stdout",
     "output_type": "stream",
     "text": [
      "[4.05810494e-05 2.65060241e-01 6.61556156e-07 7.37673094e-04\n",
      " 4.70588235e-02]\n"
     ]
    }
   ],
   "source": [
    "test_df_X = test_df[['RevolvingUtilizationOfUnsecuredLines', 'age',\n",
    "       'DebtRatio', 'MonthlyIncome',\n",
    "       'NumberOfOpenCreditLinesAndLoans']]\n",
    "\n",
    "# define min max scaler\n",
    "scaler02 = MinMaxScaler()\n",
    "# transform data\n",
    "scaled02 = scaler02.fit_transform(test_df_X)\n",
    "print(scaled02[0])\n",
    "scaled_test_df = pd.DataFrame(scaled02, columns=test_df_X.columns) \n",
    "\n",
    "test_X = scaled_test_df[['RevolvingUtilizationOfUnsecuredLines', 'age',\n",
    "       'DebtRatio', 'MonthlyIncome',\n",
    "       'NumberOfOpenCreditLinesAndLoans']]"
   ]
  },
  {
   "cell_type": "code",
   "execution_count": 18,
   "id": "f233f94a",
   "metadata": {},
   "outputs": [],
   "source": [
    "preds = grid_search.predict_proba(test_X)"
   ]
  },
  {
   "cell_type": "code",
   "execution_count": 19,
   "id": "86a3570b",
   "metadata": {},
   "outputs": [
    {
     "data": {
      "text/plain": [
       "array([[0.0094381 , 0.9905619 ],\n",
       "       [0.01278126, 0.98721874],\n",
       "       [0.02058339, 0.9794166 ],\n",
       "       ...,\n",
       "       [0.01173472, 0.9882653 ],\n",
       "       [0.00578803, 0.994212  ],\n",
       "       [0.4058137 , 0.5941863 ]], dtype=float32)"
      ]
     },
     "execution_count": 19,
     "metadata": {},
     "output_type": "execute_result"
    }
   ],
   "source": [
    "preds"
   ]
  },
  {
   "cell_type": "markdown",
   "id": "71d9e1f6",
   "metadata": {},
   "source": [
    "## Export Results"
   ]
  },
  {
   "cell_type": "code",
   "execution_count": 20,
   "id": "2fffa1a4",
   "metadata": {},
   "outputs": [],
   "source": [
    "CV_Type = \"KFold\"\n",
    "submission = pd.read_csv(f\"{RAW_DATA_DIR}/sampleEntry.csv\")\n",
    "submission[\"Probability\"]=preds[:, 1]\n",
    "submission.to_csv(f'{PROCESSED_DATA_DIR}/submission-{CV_Type}.csv', index=False)"
   ]
  },
  {
   "cell_type": "markdown",
   "id": "4327f42f",
   "metadata": {},
   "source": [
    "## Export Model"
   ]
  },
  {
   "cell_type": "code",
   "execution_count": 21,
   "id": "e4e129f6",
   "metadata": {},
   "outputs": [
    {
     "data": {
      "text/plain": [
       "['./../models/XGB-Binary-Classifier-KFold-2021-04-18.pkl']"
      ]
     },
     "execution_count": 21,
     "metadata": {},
     "output_type": "execute_result"
    }
   ],
   "source": [
    "from datetime import datetime\n",
    "import joblib\n",
    "\n",
    "DATE = datetime.today().strftime('%Y-%m-%d')\n",
    "MODEL_DIR = \"./../models\"\n",
    "ALGO = \"XGB\"\n",
    "CLASSIFIER = \"Binary-Classifier\"\n",
    "joblib.dump(grid_search, f\"{MODEL_DIR}/{ALGO}-{CLASSIFIER}-{CV_Type}-{DATE}.pkl\")"
   ]
  },
  {
   "cell_type": "code",
   "execution_count": null,
   "id": "fb84294c",
   "metadata": {},
   "outputs": [],
   "source": []
  }
 ],
 "metadata": {
  "kernelspec": {
   "display_name": "Python 3",
   "language": "python",
   "name": "python3"
  },
  "language_info": {
   "codemirror_mode": {
    "name": "ipython",
    "version": 3
   },
   "file_extension": ".py",
   "mimetype": "text/x-python",
   "name": "python",
   "nbconvert_exporter": "python",
   "pygments_lexer": "ipython3",
   "version": "3.8.8"
  }
 },
 "nbformat": 4,
 "nbformat_minor": 5
}
