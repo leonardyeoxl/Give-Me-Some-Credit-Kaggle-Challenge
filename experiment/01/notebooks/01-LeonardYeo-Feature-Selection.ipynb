{
 "cells": [
  {
   "cell_type": "markdown",
   "id": "933dc1cd",
   "metadata": {},
   "source": [
    "# Feature Selection"
   ]
  },
  {
   "cell_type": "code",
   "execution_count": 1,
   "id": "d1e98d96",
   "metadata": {},
   "outputs": [
    {
     "name": "stdout",
     "output_type": "stream",
     "text": [
      "Requirement already satisfied: xgboost==1.4.0 in /opt/conda/lib/python3.8/site-packages (1.4.0)\n",
      "Requirement already satisfied: numpy in /opt/conda/lib/python3.8/site-packages (from xgboost==1.4.0) (1.20.2)\n",
      "Requirement already satisfied: scipy in /opt/conda/lib/python3.8/site-packages (from xgboost==1.4.0) (1.6.2)\n"
     ]
    }
   ],
   "source": [
    "!pip install xgboost==1.4.0"
   ]
  },
  {
   "cell_type": "code",
   "execution_count": 2,
   "id": "8d43ece6",
   "metadata": {},
   "outputs": [],
   "source": [
    "import warnings\n",
    "warnings.filterwarnings(\"ignore\")\n",
    "\n",
    "import pandas as pd\n",
    "import numpy as np\n",
    "import matplotlib\n",
    "from matplotlib import pyplot\n",
    "\n",
    "import statsmodels.api as sm\n",
    "%matplotlib inline\n",
    "from sklearn.model_selection import train_test_split\n",
    "from sklearn.linear_model import LinearRegression\n",
    "from sklearn.feature_selection import RFE\n",
    "from xgboost import XGBClassifier, plot_importance"
   ]
  },
  {
   "cell_type": "markdown",
   "id": "e68a6b49",
   "metadata": {},
   "source": [
    "## Settings"
   ]
  },
  {
   "cell_type": "code",
   "execution_count": 3,
   "id": "46098d14",
   "metadata": {},
   "outputs": [],
   "source": [
    "RAW_DATA_DIR = \"./../data/raw\"\n",
    "INTERIM_DATA_DIR = \"./../data/interim\"\n",
    "PROCESSED_DATA_DIR = \"./../data/processed\"\n",
    "VERSION = \"v1.0\"\n",
    "params = {'axes.titlesize':'32',\n",
    "          'xtick.labelsize':'24',\n",
    "          'ytick.labelsize':'24'}\n",
    "matplotlib.rcParams.update(params)"
   ]
  },
  {
   "cell_type": "markdown",
   "id": "d4ce80e4",
   "metadata": {},
   "source": [
    "## Load Processed Data"
   ]
  },
  {
   "cell_type": "code",
   "execution_count": 4,
   "id": "58b0853e",
   "metadata": {},
   "outputs": [],
   "source": [
    "rmoutliers_scaled_df = pd.read_csv(f'{INTERIM_DATA_DIR}/Remove-Outliers-MinMaxScaled-v1.0.csv')"
   ]
  },
  {
   "cell_type": "code",
   "execution_count": 5,
   "id": "af501dcd",
   "metadata": {},
   "outputs": [
    {
     "data": {
      "text/html": [
       "<div>\n",
       "<style scoped>\n",
       "    .dataframe tbody tr th:only-of-type {\n",
       "        vertical-align: middle;\n",
       "    }\n",
       "\n",
       "    .dataframe tbody tr th {\n",
       "        vertical-align: top;\n",
       "    }\n",
       "\n",
       "    .dataframe thead th {\n",
       "        text-align: right;\n",
       "    }\n",
       "</style>\n",
       "<table border=\"1\" class=\"dataframe\">\n",
       "  <thead>\n",
       "    <tr style=\"text-align: right;\">\n",
       "      <th></th>\n",
       "      <th>SeriousDlqin2yrs</th>\n",
       "      <th>RevolvingUtilizationOfUnsecuredLines</th>\n",
       "      <th>age</th>\n",
       "      <th>NumberOfTime30-59DaysPastDueNotWorse</th>\n",
       "      <th>DebtRatio</th>\n",
       "      <th>MonthlyIncome</th>\n",
       "      <th>NumberOfOpenCreditLinesAndLoans</th>\n",
       "      <th>NumberOfTimes90DaysLate</th>\n",
       "      <th>NumberRealEstateLoansOrLines</th>\n",
       "      <th>NumberOfTime60-89DaysPastDueNotWorse</th>\n",
       "      <th>NumberOfDependents</th>\n",
       "    </tr>\n",
       "  </thead>\n",
       "  <tbody>\n",
       "    <tr>\n",
       "      <th>0</th>\n",
       "      <td>1.0</td>\n",
       "      <td>0.551050</td>\n",
       "      <td>0.436893</td>\n",
       "      <td>0.020408</td>\n",
       "      <td>0.797403</td>\n",
       "      <td>0.587629</td>\n",
       "      <td>0.228070</td>\n",
       "      <td>0.000000</td>\n",
       "      <td>0.428571</td>\n",
       "      <td>0.0</td>\n",
       "      <td>0.10</td>\n",
       "    </tr>\n",
       "    <tr>\n",
       "      <th>1</th>\n",
       "      <td>0.0</td>\n",
       "      <td>0.688448</td>\n",
       "      <td>0.388350</td>\n",
       "      <td>0.000000</td>\n",
       "      <td>0.121029</td>\n",
       "      <td>0.167526</td>\n",
       "      <td>0.070175</td>\n",
       "      <td>0.000000</td>\n",
       "      <td>0.000000</td>\n",
       "      <td>0.0</td>\n",
       "      <td>0.05</td>\n",
       "    </tr>\n",
       "    <tr>\n",
       "      <th>2</th>\n",
       "      <td>0.0</td>\n",
       "      <td>0.473408</td>\n",
       "      <td>0.368932</td>\n",
       "      <td>0.010204</td>\n",
       "      <td>0.084522</td>\n",
       "      <td>0.196005</td>\n",
       "      <td>0.035088</td>\n",
       "      <td>0.010204</td>\n",
       "      <td>0.000000</td>\n",
       "      <td>0.0</td>\n",
       "      <td>0.00</td>\n",
       "    </tr>\n",
       "    <tr>\n",
       "      <th>3</th>\n",
       "      <td>0.0</td>\n",
       "      <td>0.168172</td>\n",
       "      <td>0.291262</td>\n",
       "      <td>0.000000</td>\n",
       "      <td>0.035799</td>\n",
       "      <td>0.212629</td>\n",
       "      <td>0.087719</td>\n",
       "      <td>0.000000</td>\n",
       "      <td>0.000000</td>\n",
       "      <td>0.0</td>\n",
       "      <td>0.00</td>\n",
       "    </tr>\n",
       "    <tr>\n",
       "      <th>4</th>\n",
       "      <td>0.0</td>\n",
       "      <td>0.153332</td>\n",
       "      <td>0.718447</td>\n",
       "      <td>0.000000</td>\n",
       "      <td>0.372997</td>\n",
       "      <td>0.225515</td>\n",
       "      <td>0.052632</td>\n",
       "      <td>0.000000</td>\n",
       "      <td>0.071429</td>\n",
       "      <td>0.0</td>\n",
       "      <td>0.05</td>\n",
       "    </tr>\n",
       "  </tbody>\n",
       "</table>\n",
       "</div>"
      ],
      "text/plain": [
       "   SeriousDlqin2yrs  RevolvingUtilizationOfUnsecuredLines       age  \\\n",
       "0               1.0                              0.551050  0.436893   \n",
       "1               0.0                              0.688448  0.388350   \n",
       "2               0.0                              0.473408  0.368932   \n",
       "3               0.0                              0.168172  0.291262   \n",
       "4               0.0                              0.153332  0.718447   \n",
       "\n",
       "   NumberOfTime30-59DaysPastDueNotWorse  DebtRatio  MonthlyIncome  \\\n",
       "0                              0.020408   0.797403       0.587629   \n",
       "1                              0.000000   0.121029       0.167526   \n",
       "2                              0.010204   0.084522       0.196005   \n",
       "3                              0.000000   0.035799       0.212629   \n",
       "4                              0.000000   0.372997       0.225515   \n",
       "\n",
       "   NumberOfOpenCreditLinesAndLoans  NumberOfTimes90DaysLate  \\\n",
       "0                         0.228070                 0.000000   \n",
       "1                         0.070175                 0.000000   \n",
       "2                         0.035088                 0.010204   \n",
       "3                         0.087719                 0.000000   \n",
       "4                         0.052632                 0.000000   \n",
       "\n",
       "   NumberRealEstateLoansOrLines  NumberOfTime60-89DaysPastDueNotWorse  \\\n",
       "0                      0.428571                                   0.0   \n",
       "1                      0.000000                                   0.0   \n",
       "2                      0.000000                                   0.0   \n",
       "3                      0.000000                                   0.0   \n",
       "4                      0.071429                                   0.0   \n",
       "\n",
       "   NumberOfDependents  \n",
       "0                0.10  \n",
       "1                0.05  \n",
       "2                0.00  \n",
       "3                0.00  \n",
       "4                0.05  "
      ]
     },
     "execution_count": 5,
     "metadata": {},
     "output_type": "execute_result"
    }
   ],
   "source": [
    "rmoutliers_scaled_df.head()"
   ]
  },
  {
   "cell_type": "code",
   "execution_count": 6,
   "id": "0e6366d9",
   "metadata": {},
   "outputs": [
    {
     "data": {
      "text/plain": [
       "Index(['SeriousDlqin2yrs', 'RevolvingUtilizationOfUnsecuredLines', 'age',\n",
       "       'NumberOfTime30-59DaysPastDueNotWorse', 'DebtRatio', 'MonthlyIncome',\n",
       "       'NumberOfOpenCreditLinesAndLoans', 'NumberOfTimes90DaysLate',\n",
       "       'NumberRealEstateLoansOrLines', 'NumberOfTime60-89DaysPastDueNotWorse',\n",
       "       'NumberOfDependents'],\n",
       "      dtype='object')"
      ]
     },
     "execution_count": 6,
     "metadata": {},
     "output_type": "execute_result"
    }
   ],
   "source": [
    "rmoutliers_scaled_df.columns"
   ]
  },
  {
   "cell_type": "code",
   "execution_count": 7,
   "id": "6aba4f5c",
   "metadata": {},
   "outputs": [
    {
     "data": {
      "text/plain": [
       "False"
      ]
     },
     "execution_count": 7,
     "metadata": {},
     "output_type": "execute_result"
    }
   ],
   "source": [
    "rmoutliers_scaled_df.isnull().values.any()"
   ]
  },
  {
   "cell_type": "code",
   "execution_count": 8,
   "id": "1e8b44c6",
   "metadata": {},
   "outputs": [],
   "source": [
    "X = rmoutliers_scaled_df[['RevolvingUtilizationOfUnsecuredLines', 'age',\n",
    "       'NumberOfTime30-59DaysPastDueNotWorse', 'DebtRatio', 'MonthlyIncome',\n",
    "       'NumberOfOpenCreditLinesAndLoans', 'NumberOfTimes90DaysLate',\n",
    "       'NumberRealEstateLoansOrLines', 'NumberOfTime60-89DaysPastDueNotWorse',\n",
    "       'NumberOfDependents']]\n",
    "y = rmoutliers_scaled_df['SeriousDlqin2yrs']"
   ]
  },
  {
   "cell_type": "markdown",
   "id": "461986eb",
   "metadata": {},
   "source": [
    "## Backward Elimination"
   ]
  },
  {
   "cell_type": "code",
   "execution_count": 9,
   "id": "b357a832",
   "metadata": {},
   "outputs": [
    {
     "data": {
      "text/plain": [
       "const                                    1.102154e-17\n",
       "RevolvingUtilizationOfUnsecuredLines     0.000000e+00\n",
       "age                                      9.188158e-16\n",
       "NumberOfTime30-59DaysPastDueNotWorse    3.880267e-228\n",
       "DebtRatio                                1.380778e-01\n",
       "MonthlyIncome                            2.813905e-32\n",
       "NumberOfOpenCreditLinesAndLoans          2.968550e-10\n",
       "NumberOfTimes90DaysLate                 1.230670e-191\n",
       "NumberRealEstateLoansOrLines             6.813906e-01\n",
       "NumberOfTime60-89DaysPastDueNotWorse     0.000000e+00\n",
       "NumberOfDependents                       3.607200e-18\n",
       "dtype: float64"
      ]
     },
     "execution_count": 9,
     "metadata": {},
     "output_type": "execute_result"
    }
   ],
   "source": [
    "# Adding constant column of ones, mandatory for sm.OLS model\n",
    "X_1 = sm.add_constant(X)#Fitting sm.OLS model\n",
    "model = sm.OLS(y,X_1).fit()\n",
    "model.pvalues"
   ]
  },
  {
   "cell_type": "code",
   "execution_count": 10,
   "id": "d5c7386a",
   "metadata": {},
   "outputs": [
    {
     "name": "stdout",
     "output_type": "stream",
     "text": [
      "['RevolvingUtilizationOfUnsecuredLines', 'age', 'NumberOfTime30-59DaysPastDueNotWorse', 'MonthlyIncome', 'NumberOfOpenCreditLinesAndLoans', 'NumberOfTimes90DaysLate', 'NumberOfTime60-89DaysPastDueNotWorse', 'NumberOfDependents']\n"
     ]
    }
   ],
   "source": [
    "# Backward Elimination\n",
    "cols = list(X.columns)\n",
    "pmax = 1\n",
    "while (len(cols)>0):\n",
    "    p= []\n",
    "    X_1 = X[cols]\n",
    "    X_1 = sm.add_constant(X_1)\n",
    "    model = sm.OLS(y,X_1).fit()\n",
    "    p = pd.Series(model.pvalues.values[1:],index = cols)      \n",
    "    pmax = max(p)\n",
    "    feature_with_p_max = p.idxmax()\n",
    "    if(pmax>0.05):\n",
    "        cols.remove(feature_with_p_max)\n",
    "    else:\n",
    "        break\n",
    "\n",
    "selected_features_BE = cols\n",
    "print(selected_features_BE)"
   ]
  },
  {
   "cell_type": "markdown",
   "id": "42dd455c",
   "metadata": {},
   "source": [
    "## Recursive Feature Elimination"
   ]
  },
  {
   "cell_type": "code",
   "execution_count": 11,
   "id": "a0892d71",
   "metadata": {},
   "outputs": [
    {
     "data": {
      "text/plain": [
       "(107779, 10)"
      ]
     },
     "execution_count": 11,
     "metadata": {},
     "output_type": "execute_result"
    }
   ],
   "source": [
    "X.shape"
   ]
  },
  {
   "cell_type": "code",
   "execution_count": 12,
   "id": "66cd0ff6",
   "metadata": {},
   "outputs": [
    {
     "name": "stdout",
     "output_type": "stream",
     "text": [
      "[ True  True  True  True  True  True  True  True  True  True]\n",
      "[1 1 1 1 1 1 1 1 1 1]\n"
     ]
    }
   ],
   "source": [
    "model = XGBClassifier(use_label_encoder=False, verbosity=0, seed=123, random_state=123) #Initializing RFE model\n",
    "rfe = RFE(model, 10) #Transforming data using RFE\n",
    "X_rfe = rfe.fit_transform(X,y) #Fitting the data to model\n",
    "model.fit(X_rfe,y)\n",
    "print(rfe.support_)\n",
    "print(rfe.ranking_)"
   ]
  },
  {
   "cell_type": "code",
   "execution_count": 13,
   "id": "b5c2e7f4",
   "metadata": {},
   "outputs": [
    {
     "name": "stdout",
     "output_type": "stream",
     "text": [
      "Optimum number of features: 5\n",
      "Score with 5 features: 0.935563\n"
     ]
    }
   ],
   "source": [
    "# no of features\n",
    "nof_list=np.arange(1,10)            \n",
    "high_score=0\n",
    "\n",
    "# Variable to store the optimum features\n",
    "nof=0           \n",
    "score_list =[]\n",
    "for n in range(len(nof_list)):\n",
    "    X_train, X_test, y_train, y_test = train_test_split(X,y, test_size=0.2, random_state=123)\n",
    "    model = XGBClassifier(use_label_encoder=False, verbosity=0, seed=123, random_state=123)\n",
    "    rfe = RFE(model,nof_list[n])\n",
    "    X_train_rfe = rfe.fit_transform(X_train,y_train)\n",
    "    X_test_rfe = rfe.transform(X_test)\n",
    "    model.fit(X_train_rfe,y_train)\n",
    "    score = model.score(X_test_rfe,y_test)\n",
    "    score_list.append(score)\n",
    "    if(score>high_score):\n",
    "        high_score = score\n",
    "        nof = nof_list[n]\n",
    "\n",
    "print(\"Optimum number of features: %d\" %nof)\n",
    "print(\"Score with %d features: %f\" % (nof, high_score))"
   ]
  },
  {
   "cell_type": "code",
   "execution_count": 14,
   "id": "b5692266",
   "metadata": {},
   "outputs": [
    {
     "name": "stdout",
     "output_type": "stream",
     "text": [
      "Index(['RevolvingUtilizationOfUnsecuredLines',\n",
      "       'NumberOfTime30-59DaysPastDueNotWorse', 'DebtRatio',\n",
      "       'NumberOfTimes90DaysLate', 'NumberOfTime60-89DaysPastDueNotWorse'],\n",
      "      dtype='object')\n"
     ]
    }
   ],
   "source": [
    "cols = list(X.columns)\n",
    "model = XGBClassifier(use_label_encoder=False, verbosity=0, seed=123, random_state=123) #Initializing RFE model\n",
    "rfe = RFE(model, 5)             #Transforming data using RFE\n",
    "X_rfe = rfe.fit_transform(X,y)  #Fitting the data to model\n",
    "model.fit(X_rfe,y)              \n",
    "temp = pd.Series(rfe.support_,index = cols)\n",
    "selected_features_rfe = temp[temp==True].index\n",
    "print(selected_features_rfe)"
   ]
  },
  {
   "cell_type": "markdown",
   "id": "e79fb14d",
   "metadata": {},
   "source": [
    "## Feature Importance"
   ]
  },
  {
   "cell_type": "code",
   "execution_count": 15,
   "id": "691df21e",
   "metadata": {},
   "outputs": [
    {
     "data": {
      "image/png": "[encoded data removed]",
      "text/plain": [
       "<Figure size 432x288 with 1 Axes>"
      ]
     },
     "metadata": {
      "needs_background": "light"
     },
     "output_type": "display_data"
    }
   ],
   "source": [
    "model = XGBClassifier(use_label_encoder=False, verbosity=0, seed=123, random_state=123)\n",
    "model.fit(X, y)\n",
    "# plot feature importance\n",
    "plot_importance(model)\n",
    "pyplot.show()"
   ]
  },
  {
   "cell_type": "code",
   "execution_count": null,
   "id": "c5c03882",
   "metadata": {},
   "outputs": [],
   "source": []
  }
 ],
 "metadata": {
  "kernelspec": {
   "display_name": "Python 3",
   "language": "python",
   "name": "python3"
  },
  "language_info": {
   "codemirror_mode": {
    "name": "ipython",
    "version": 3
   },
   "file_extension": ".py",
   "mimetype": "text/x-python",
   "name": "python",
   "nbconvert_exporter": "python",
   "pygments_lexer": "ipython3",
   "version": "3.8.8"
  }
 },
 "nbformat": 4,
 "nbformat_minor": 5
}
